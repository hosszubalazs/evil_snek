{
 "cells": [
  {
   "cell_type": "markdown",
   "metadata": {
    "pycharm": {}
   },
   "source": [
    "# Identfying health potions\n",
    "\n",
    "The character has a belt with 10 slots, and each slot might contain a potion. There are three main types of potions, restoring their respective property:\n",
    "\n",
    "- red health potions\n",
    "- blue mana potions\n",
    "- yellow rejuvation potions, restoring both values\n",
    "\n",
    "All three types of potions have two sizes, small and big. Small potions restore only some of the property, while the big potions restore all.\n",
    "\n",
    "Note: This workbook reuses some techniques from the OCR demonstration. The same solution will not be described again. Please check ocr_by_template_matching.ipynb before this one. \n",
    "\n",
    "## Scope\n",
    "\n",
    "In this workbook we are going to show to analyse all the slots and determine:\n",
    "\n",
    "- Which one has a health point in it?\n",
    "- What kind of health potion is it, big or small?\n",
    "\n",
    "## Load a screenshot and crop for the belt\n",
    "\n",
    "The starting input a screenshot from the game. For the workbook we are using a static image, in the real program this is of course a stream of pictures many times a second.\n",
    "\n",
    "The belt is always visible and always in the same place. Easy target for some cropping."
   ]
  },
  {
   "cell_type": "code",
   "execution_count": 1,
   "metadata": {
    "pycharm": {}
   },
   "outputs": [
    {
     "data": {
      "text/plain": [
       "<matplotlib.image.AxesImage at 0x28a0c120c50>"
      ]
     },
     "execution_count": 1,
     "metadata": {},
     "output_type": "execute_result"
    },
    {
     "data": {
      "image/png": "[encoded data removed]",
      "text/plain": [
       "<Figure size 432x288 with 1 Axes>"
      ]
     },
     "metadata": {
      "needs_background": "light"
     },
     "output_type": "display_data"
    }
   ],
   "source": [
    "import cv2\n",
    "# matplotlib only used to show these results in Jupyter. It is not part of the actual solution.\n",
    "%matplotlib inline\n",
    "from matplotlib import pyplot as plt\n",
    "\n",
    "# Importing tools needed for interactivity\n",
    "import ipywidgets as widgets\n",
    "from ipywidgets import interact, interact_manual\n",
    "\n",
    "\n",
    "screenshot = cv2.imread(\"../tests/test_data/character_screen_1440_0.PNG\")\n",
    "# This conversion only needed for Jupyter. OpenCV is BGR by default, while matplotlib is RGB.\n",
    "screenshot = cv2.cvtColor(screenshot,cv2.COLOR_BGR2RGB)\n",
    "\n",
    "width = screenshot.shape[1]\n",
    "height = screenshot.shape[0]\n",
    "\n",
    "# These are constants, we know the relative location\n",
    "x_start_rel = 450/1400\n",
    "x_size_rel = 500/1400\n",
    "y_start_rel = 780/1050\n",
    "y_size_rel = 62.5/1050\n",
    "\n",
    "# Based on the actual resolution now we know the pixel perfect coordinates we need\n",
    "x_start_abs = int(x_start_rel * width)\n",
    "x_size_abs = int(x_size_rel * width)\n",
    "y_start_abs = int(y_start_rel * height)\n",
    "y_size_abs = int(y_size_rel * height)\n",
    "\n",
    "belt = screenshot[y_start_abs:y_start_abs + y_size_abs, x_start_abs:x_start_abs+x_size_abs]\n",
    "plt.imshow(belt)\n"
   ]
  },
  {
   "cell_type": "markdown",
   "metadata": {
    "pycharm": {}
   },
   "source": [
    "## Crop for each item\n",
    "\n",
    "We know the total size of the belt in pixels, and also know it always contains 8 items. Now it is easy to separate the items in it.\n",
    "\n",
    "In the example only the last item (index 7) is show. Putting there all images is not practical in Jupyter, but we already believe it works. :)"
   ]
  },
  {
   "cell_type": "code",
   "execution_count": 2,
   "metadata": {
    "pycharm": {
     "is_executing": false
    },
    "scrolled": true
   },
   "outputs": [
    {
     "name": "stdout",
     "output_type": "stream",
     "text": [
      "63\n"
     ]
    },
    {
     "data": {
      "application/vnd.jupyter.widget-view+json": {
       "model_id": "97d6dc7b50e24dcaa621bc74e96a7787",
       "version_major": 2,
       "version_minor": 0
      },
      "text/plain": [
       "interactive(children=(IntSlider(value=3, description='x', max=7), Output()), _dom_classes=('widget-interact',)…"
      ]
     },
     "metadata": {},
     "output_type": "display_data"
    },
    {
     "data": {
      "text/plain": [
       "<function __main__.f(x)>"
      ]
     },
     "execution_count": 2,
     "metadata": {},
     "output_type": "execute_result"
    }
   ],
   "source": [
    "slot_icons=[]\n",
    "width_of_item=63\n",
    "print(width_of_item)\n",
    "for i in range(0,8):\n",
    "   slot_icons.append(belt[0:y_size_abs, i*width_of_item:i*width_of_item+width_of_item])\n",
    "\n",
    "def f(x):\n",
    "    plt.imshow(slot_icons[x])\n",
    "\n",
    "interact(f,x=(0,7))"
   ]
  },
  {
   "cell_type": "markdown",
   "metadata": {
    "pycharm": {}
   },
   "source": [
    "## Finding health potions\n",
    "\n",
    "Let's attack the picture with some simple colored filters, see what happens.\n",
    "The picture is current in RGB. We set up a filter for the red color, allowing some low levels of blue and green.\n",
    "\n",
    "Based on our small sample this looks like a possible way to go."
   ]
  },
  {
   "cell_type": "code",
   "execution_count": 3,
   "metadata": {
    "pycharm": {}
   },
   "outputs": [
    {
     "data": {
      "application/vnd.jupyter.widget-view+json": {
       "model_id": "e6b999bc46484da3b41ec83ff9171bcc",
       "version_major": 2,
       "version_minor": 0
      },
      "text/plain": [
       "interactive(children=(IntSlider(value=127, description='red_filter', max=255), IntSlider(value=127, descriptio…"
      ]
     },
     "metadata": {},
     "output_type": "display_data"
    },
    {
     "data": {
      "text/plain": [
       "<function __main__.filter_belt(red_filter, green_filter, blue_filter)>"
      ]
     },
     "execution_count": 3,
     "metadata": {},
     "output_type": "execute_result"
    }
   ],
   "source": [
    "def filter_belt(red_filter,green_filter,blue_filter):\n",
    "    belt_redfiltered = cv2.inRange(belt, (0,0,0), (red_filter,green_filter,blue_filter))\n",
    "    plt.imshow(belt_redfiltered)\n",
    "\n",
    "interact(filter_belt,red_filter=(0,255), green_filter=(0,255), blue_filter=(0,255))"
   ]
  },
  {
   "cell_type": "markdown",
   "metadata": {},
   "source": [
    "Based on experience of fiddling around __the filter of (255,30,30)__ seems good enough."
   ]
  },
  {
   "cell_type": "code",
   "execution_count": 4,
   "metadata": {
    "pycharm": {},
    "scrolled": true
   },
   "outputs": [
    {
     "data": {
      "application/vnd.jupyter.widget-view+json": {
       "model_id": "8ad8645b309941f78e38ed813a264bcd",
       "version_major": 2,
       "version_minor": 0
      },
      "text/plain": [
       "interactive(children=(IntSlider(value=3, description='x', max=7), Output()), _dom_classes=('widget-interact',)…"
      ]
     },
     "metadata": {},
     "output_type": "display_data"
    },
    {
     "data": {
      "text/plain": [
       "<function __main__.show_filtered_slot(x)>"
      ]
     },
     "execution_count": 4,
     "metadata": {},
     "output_type": "execute_result"
    }
   ],
   "source": [
    "filtered_icons=[]\n",
    "for i in range(0,8):\n",
    "    filtered_icons.append(cv2.inRange(slot_icons[i], (0,0,0), (255,30,30)) )\n",
    "    \n",
    "def show_filtered_slot(x):\n",
    "    plt.imshow(filtered_icons[x])\n",
    "\n",
    "interact(show_filtered_slot,x=(0,7))"
   ]
  },
  {
   "cell_type": "markdown",
   "metadata": {
    "pycharm": {}
   },
   "source": [
    "Based on this information, whether there is anything on the screen, we should be able to tell where is there a heath potion.\n",
    "At this point we are assuming we successfully filtered for the potions. ( based on our small example this looks allright)\n",
    "Now review each slot, and determine if any information is in them after filtering. If yes, it is a potion, if no, not a potion."
   ]
  },
  {
   "cell_type": "code",
   "execution_count": 5,
   "metadata": {
    "pycharm": {}
   },
   "outputs": [
    {
     "name": "stdout",
     "output_type": "stream",
     "text": [
      "[0, 0, 0, 1, 1, 1, 1, 1]\n"
     ]
    }
   ],
   "source": [
    "potion_or_not=[]\n",
    "\n",
    "for i in range(0,8):\n",
    "    red_filtered_slot = cv2.inRange(slot_icons[i], (0,0,0), (255,30,30)) \n",
    "    total_information = cv2.countNonZero(red_filtered_slot)\n",
    "    potion_or_not.append(1 if total_information else 0)\n",
    "\n",
    "print(potion_or_not)"
   ]
  },
  {
   "cell_type": "markdown",
   "metadata": {
    "pycharm": {}
   },
   "source": [
    "The pattern is **0,0,0,1,1,1,1,1**\n",
    "\n",
    "Now we have the pattern of where is a health potion, and where not. Great.\n",
    "Just for easy verification here is the original picture again:"
   ]
  },
  {
   "cell_type": "code",
   "execution_count": 6,
   "metadata": {
    "pycharm": {}
   },
   "outputs": [
    {
     "data": {
      "text/plain": [
       "<matplotlib.image.AxesImage at 0x28a0c2f8e80>"
      ]
     },
     "execution_count": 6,
     "metadata": {},
     "output_type": "execute_result"
    },
    {
     "data": {
      "image/png": "[encoded data removed]",
      "text/plain": [
       "<Figure size 432x288 with 1 Axes>"
      ]
     },
     "metadata": {
      "needs_background": "light"
     },
     "output_type": "display_data"
    }
   ],
   "source": [
    "plt.imshow(belt)"
   ]
  },
  {
   "cell_type": "markdown",
   "metadata": {
    "pycharm": {}
   },
   "source": [
    "## Small or large health potion\n",
    "\n",
    "After filtering the bigger potions seem to have more white pixels in them, they are bigger afterall. For the next step we will measure the \n",
    "Let's check the total number of white pixels in a big potion."
   ]
  },
  {
   "cell_type": "code",
   "execution_count": 7,
   "metadata": {
    "pycharm": {}
   },
   "outputs": [
    {
     "name": "stdout",
     "output_type": "stream",
     "text": [
      "822\n"
     ]
    }
   ],
   "source": [
    "print(cv2.countNonZero(filtered_icons[7]))"
   ]
  },
  {
   "cell_type": "markdown",
   "metadata": {
    "pycharm": {}
   },
   "source": [
    "822, nice. Now check the small potion, and hope it is significantly different so we can use that information for decision."
   ]
  },
  {
   "cell_type": "code",
   "execution_count": 8,
   "metadata": {
    "pycharm": {}
   },
   "outputs": [
    {
     "data": {
      "application/vnd.jupyter.widget-view+json": {
       "model_id": "df6cd045e93541838931c4d9cb16aff9",
       "version_major": 2,
       "version_minor": 0
      },
      "text/plain": [
       "interactive(children=(IntSlider(value=3, description='x', max=7), Output()), _dom_classes=('widget-interact',)…"
      ]
     },
     "metadata": {},
     "output_type": "display_data"
    },
    {
     "data": {
      "text/plain": [
       "<function __main__.summarize_slot(x)>"
      ]
     },
     "execution_count": 8,
     "metadata": {},
     "output_type": "execute_result"
    }
   ],
   "source": [
    "def summarize_slot(x):\n",
    "    print(cv2.countNonZero(filtered_icons[x]))\n",
    "    plt.imshow(filtered_icons[x])\n",
    "\n",
    "interact(summarize_slot,x=(0,7))"
   ]
  },
  {
   "cell_type": "markdown",
   "metadata": {
    "pycharm": {}
   },
   "source": [
    "- Heavy potions: ~822\n",
    "- Small potions: ~464\n",
    "\n",
    "Based on these values we are choosing **650** as a good middle ground, as thresholding limit to decide if a potion is big or small."
   ]
  },
  {
   "cell_type": "markdown",
   "metadata": {
    "pycharm": {}
   },
   "source": [
    "## Reconstruct the data in digital form\n",
    "\n",
    "Putting it all together, lets create an array where:\n",
    "i. value describes the i. slot in the belt, starting from left to right.\n",
    "\n",
    "- **0** = not a health potion\n",
    "- **1** = small health potion\n",
    "- **2** = great health potion\n",
    "\n",
    "In the following example we can see each slot with it's corresponding type:"
   ]
  },
  {
   "cell_type": "code",
   "execution_count": 9,
   "metadata": {},
   "outputs": [
    {
     "data": {
      "application/vnd.jupyter.widget-view+json": {
       "model_id": "254e6ce442764188a38b8063e5b7e863",
       "version_major": 2,
       "version_minor": 0
      },
      "text/plain": [
       "interactive(children=(IntSlider(value=3, description='x', max=7), Output()), _dom_classes=('widget-interact',)…"
      ]
     },
     "metadata": {},
     "output_type": "display_data"
    },
    {
     "data": {
      "text/plain": [
       "<function __main__.identify_slot(x)>"
      ]
     },
     "execution_count": 9,
     "metadata": {},
     "output_type": "execute_result"
    }
   ],
   "source": [
    "def identify_slot(x):\n",
    "    red_filtered_slot = cv2.inRange(slot_icons[x], (0,0,0), (255,30,30)) \n",
    "    total_information = cv2.countNonZero(red_filtered_slot)\n",
    "    if total_information > 650 :\n",
    "        slot_type = 2\n",
    "    elif total_information > 420 :\n",
    "        slot_type = 1 \n",
    "    else:\n",
    "        slot_type = 0\n",
    "    print(slot_type)\n",
    "    plt.imshow(slot_icons[x])\n",
    "\n",
    "\n",
    "interact(identify_slot,x=(0,7))"
   ]
  },
  {
   "cell_type": "markdown",
   "metadata": {},
   "source": [
    "And as a summary here we create an array of all the types to demonstrate the required behaviour:"
   ]
  },
  {
   "cell_type": "code",
   "execution_count": 10,
   "metadata": {
    "pycharm": {}
   },
   "outputs": [
    {
     "name": "stdout",
     "output_type": "stream",
     "text": [
      "[0, 0, 0, 1, 1, 1, 2, 2]\n"
     ]
    }
   ],
   "source": [
    "potions_in_belt=[]\n",
    "\n",
    "for i in range(0,8):\n",
    "    red_filtered_slot = cv2.inRange(slot_icons[i], (0,0,0), (255,30,30)) \n",
    "    total_information = cv2.countNonZero(red_filtered_slot)\n",
    "    if total_information > 650 :\n",
    "        potions_in_belt.append(2)\n",
    "    elif total_information > 420 :\n",
    "        potions_in_belt.append(1)\n",
    "    else:\n",
    "        potions_in_belt.append(0)\n",
    "\n",
    "print(potions_in_belt)"
   ]
  },
  {
   "cell_type": "markdown",
   "metadata": {
    "pycharm": {}
   },
   "source": [
    "## Success\n",
    "\n",
    "The pattern is **0,0,0,1,1,1,2,2**\n",
    "\n",
    "We can quickly verify this is correct based on our picture:"
   ]
  },
  {
   "cell_type": "code",
   "execution_count": 11,
   "metadata": {
    "pycharm": {}
   },
   "outputs": [
    {
     "data": {
      "text/plain": [
       "<matplotlib.image.AxesImage at 0x28a0c41c588>"
      ]
     },
     "execution_count": 11,
     "metadata": {},
     "output_type": "execute_result"
    },
    {
     "data": {
      "image/png": "[encoded data removed]",
      "text/plain": [
       "<Figure size 432x288 with 1 Axes>"
      ]
     },
     "metadata": {
      "needs_background": "light"
     },
     "output_type": "display_data"
    }
   ],
   "source": [
    "plt.imshow(belt)"
   ]
  }
 ],
 "metadata": {
  "kernelspec": {
   "display_name": "Python 3",
   "language": "python",
   "name": "python3"
  },
  "language_info": {
   "codemirror_mode": {
    "name": "ipython",
    "version": 3
   },
   "file_extension": ".py",
   "mimetype": "text/x-python",
   "name": "python",
   "nbconvert_exporter": "python",
   "pygments_lexer": "ipython3",
   "version": "3.6.8"
  }
 },
 "nbformat": 4,
 "nbformat_minor": 2
}
